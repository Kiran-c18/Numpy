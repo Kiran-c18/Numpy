{
 "cells": [
  {
   "cell_type": "code",
   "execution_count": 2,
   "id": "a0bce871",
   "metadata": {},
   "outputs": [],
   "source": [
    "import numpy as np"
   ]
  },
  {
   "cell_type": "markdown",
   "id": "b2ef0fce",
   "metadata": {},
   "source": [
    "printing random numbers between one to hundred list of 5"
   ]
  },
  {
   "cell_type": "code",
   "execution_count": 7,
   "id": "2f285ab1",
   "metadata": {},
   "outputs": [
    {
     "data": {
      "text/plain": [
       "array([61, 54, 65, 47, 77])"
      ]
     },
     "execution_count": 7,
     "metadata": {},
     "output_type": "execute_result"
    }
   ],
   "source": [
    "x=np.random.randint(1,100,5)\n",
    "x"
   ]
  },
  {
   "cell_type": "markdown",
   "id": "d8b1317e",
   "metadata": {},
   "source": [
    "array creation"
   ]
  },
  {
   "cell_type": "code",
   "execution_count": 9,
   "id": "d9965c7d",
   "metadata": {},
   "outputs": [
    {
     "data": {
      "text/plain": [
       "array([[ 1,  3,  7],\n",
       "       [ 2,  3,  8],\n",
       "       [10, 29,  6]])"
      ]
     },
     "execution_count": 9,
     "metadata": {},
     "output_type": "execute_result"
    }
   ],
   "source": [
    "array = np.array([[1,3,7],[2,3,8],[10,29,6]])\n",
    "array"
   ]
  },
  {
   "cell_type": "markdown",
   "id": "afde5d1b",
   "metadata": {},
   "source": [
    "creating an array with range of value in ascending order"
   ]
  },
  {
   "cell_type": "code",
   "execution_count": 14,
   "id": "17f032d1",
   "metadata": {},
   "outputs": [
    {
     "data": {
      "text/plain": [
       "array([1, 3, 5, 7, 9])"
      ]
     },
     "execution_count": 14,
     "metadata": {},
     "output_type": "execute_result"
    }
   ],
   "source": [
    "x= np.arange(1,10)\n",
    "x"
   ]
  },
  {
   "cell_type": "markdown",
   "id": "1f3d0a3f",
   "metadata": {},
   "source": [
    " odd number between 0 to 100"
   ]
  },
  {
   "cell_type": "code",
   "execution_count": 17,
   "id": "6bccaf8e",
   "metadata": {},
   "outputs": [
    {
     "data": {
      "text/plain": [
       "array([ 1,  3,  5,  7,  9, 11, 13, 15, 17, 19, 21, 23, 25, 27, 29, 31, 33,\n",
       "       35, 37, 39, 41, 43, 45, 47, 49, 51, 53, 55, 57, 59, 61, 63, 65, 67,\n",
       "       69, 71, 73, 75, 77, 79, 81, 83, 85, 87, 89, 91, 93, 95, 97, 99])"
      ]
     },
     "execution_count": 17,
     "metadata": {},
     "output_type": "execute_result"
    }
   ],
   "source": [
    "a= np.arange(1,100,2)\n",
    "a"
   ]
  },
  {
   "cell_type": "markdown",
   "id": "49431dad",
   "metadata": {},
   "source": [
    "even number between 1 to 100"
   ]
  },
  {
   "cell_type": "code",
   "execution_count": 22,
   "id": "f6251839",
   "metadata": {},
   "outputs": [
    {
     "data": {
      "text/plain": [
       "array([ 2,  4,  6,  8, 10, 12, 14, 16, 18, 20, 22, 24, 26, 28, 30, 32, 34,\n",
       "       36, 38, 40, 42, 44, 46, 48, 50, 52, 54, 56, 58, 60, 62, 64, 66, 68,\n",
       "       70, 72, 74, 76, 78, 80, 82, 84, 86, 88, 90, 92, 94, 96, 98])"
      ]
     },
     "execution_count": 22,
     "metadata": {},
     "output_type": "execute_result"
    }
   ],
   "source": [
    "b=np.arange(2,100,2)\n",
    "b"
   ]
  },
  {
   "cell_type": "markdown",
   "id": "ded6fb9c",
   "metadata": {},
   "source": [
    "printing array with zeros"
   ]
  },
  {
   "cell_type": "code",
   "execution_count": 23,
   "id": "79c92e99",
   "metadata": {},
   "outputs": [
    {
     "data": {
      "text/plain": [
       "array([0., 0., 0., 0., 0.])"
      ]
     },
     "execution_count": 23,
     "metadata": {},
     "output_type": "execute_result"
    }
   ],
   "source": [
    "x=np.zeros(5)\n",
    "x"
   ]
  },
  {
   "cell_type": "markdown",
   "id": "b1ec48fc",
   "metadata": {},
   "source": [
    "printing array with ones"
   ]
  },
  {
   "cell_type": "code",
   "execution_count": 29,
   "id": "edbab64c",
   "metadata": {},
   "outputs": [
    {
     "data": {
      "text/plain": [
       "array([[1., 1., 1.],\n",
       "       [1., 1., 1.],\n",
       "       [1., 1., 1.]])"
      ]
     },
     "execution_count": 29,
     "metadata": {},
     "output_type": "execute_result"
    }
   ],
   "source": [
    "ones=np.ones((3,3))\n",
    "ones"
   ]
  },
  {
   "cell_type": "markdown",
   "id": "8e3d1b00",
   "metadata": {},
   "source": [
    "printing  array from zero to two with five evenly spaced values"
   ]
  },
  {
   "cell_type": "code",
   "execution_count": 33,
   "id": "269f28d1",
   "metadata": {},
   "outputs": [
    {
     "data": {
      "text/plain": [
       "array([0. , 0.5, 1. , 1.5, 2. ])"
      ]
     },
     "execution_count": 33,
     "metadata": {},
     "output_type": "execute_result"
    }
   ],
   "source": [
    "arr = np.linspace(0,2,5)\n",
    "arr"
   ]
  },
  {
   "cell_type": "code",
   "execution_count": null,
   "id": "7b915c59",
   "metadata": {},
   "outputs": [],
   "source": []
  },
  {
   "cell_type": "raw",
   "id": "54f830a6",
   "metadata": {},
   "source": [
    "random value between  zero to one "
   ]
  },
  {
   "cell_type": "code",
   "execution_count": 36,
   "id": "494b00ae",
   "metadata": {},
   "outputs": [
    {
     "data": {
      "text/plain": [
       "array([0.9278142 , 0.04104415, 0.42878402, 0.43282865, 0.85700303,\n",
       "       0.34196536, 0.09403221, 0.98311547, 0.55536187, 0.02776983])"
      ]
     },
     "execution_count": 36,
     "metadata": {},
     "output_type": "execute_result"
    }
   ],
   "source": [
    "array = np.random.rand(10)\n",
    "array"
   ]
  },
  {
   "cell_type": "markdown",
   "id": "a0687d1c",
   "metadata": {},
   "source": [
    "finding maximum value,minimum value,median and mean value in a array"
   ]
  },
  {
   "cell_type": "code",
   "execution_count": 43,
   "id": "376ff138",
   "metadata": {},
   "outputs": [
    {
     "name": "stdout",
     "output_type": "stream",
     "text": [
      "maximum value 127\n",
      "minimum value  4\n",
      "mean value 43.38461538461539\n",
      "median value 28.0\n"
     ]
    }
   ],
   "source": [
    "array = np.array([10,4,34,28,44,89,123,127,6,12,27,38,22])\n",
    "max_value=np.max(array)\n",
    "min_value=np.min(array)\n",
    "median_value=np.median(array)\n",
    "mean_value=np.mean(array)\n",
    "print('maximum value',max_value)\n",
    "print('minimum value ',min_value)\n",
    "print('mean value',mean_value)\n",
    "print('median value',median_value)"
   ]
  },
  {
   "cell_type": "markdown",
   "id": "227cf190",
   "metadata": {},
   "source": [
    "printing dot product of two array"
   ]
  },
  {
   "cell_type": "code",
   "execution_count": 48,
   "id": "27a0e19b",
   "metadata": {},
   "outputs": [
    {
     "name": "stdout",
     "output_type": "stream",
     "text": [
      "dot product is 118\n"
     ]
    }
   ],
   "source": [
    "x=np.array([10,4,8])\n",
    "y=np.array([7,6,3])\n",
    "dot_product = np.dot(x,y)\n",
    "print('dot product is',dot_product)\n"
   ]
  },
  {
   "cell_type": "code",
   "execution_count": 49,
   "id": "f143d226",
   "metadata": {},
   "outputs": [],
   "source": [
    "x=np.array([6,4,8])\n",
    "y=np.array([2,6,3])\n",
    "cross_product=np.cross(x,y)"
   ]
  },
  {
   "cell_type": "code",
   "execution_count": 3,
   "id": "6f86c9ed",
   "metadata": {},
   "outputs": [
    {
     "data": {
      "text/plain": [
       "array([ 4, 10,  2,  6,  8, 12])"
      ]
     },
     "execution_count": 3,
     "metadata": {},
     "output_type": "execute_result"
    }
   ],
   "source": [
    "arr = np.array([4,10,2,6,8,12])\n",
    "arr"
   ]
  },
  {
   "cell_type": "code",
   "execution_count": 4,
   "id": "0c50cdb9",
   "metadata": {},
   "outputs": [
    {
     "data": {
      "text/plain": [
       "array([ 4, 10,  2,  6,  8, 12, 25])"
      ]
     },
     "execution_count": 4,
     "metadata": {},
     "output_type": "execute_result"
    }
   ],
   "source": [
    "np.append(arr,25)"
   ]
  },
  {
   "cell_type": "code",
   "execution_count": 9,
   "id": "cf49310a",
   "metadata": {},
   "outputs": [
    {
     "data": {
      "text/plain": [
       "array([ 4, 10,  2, 17,  6,  8, 12])"
      ]
     },
     "execution_count": 9,
     "metadata": {},
     "output_type": "execute_result"
    }
   ],
   "source": [
    "x=np.insert(arr,3,17)\n",
    "x"
   ]
  },
  {
   "cell_type": "code",
   "execution_count": 12,
   "id": "510d4ea1",
   "metadata": {},
   "outputs": [
    {
     "data": {
      "text/plain": [
       "array([ 4, 10,  2,  6,  8, 12])"
      ]
     },
     "execution_count": 12,
     "metadata": {},
     "output_type": "execute_result"
    }
   ],
   "source": [
    "arr1=np.delete(x,3,axis=0)\n",
    "arr1"
   ]
  },
  {
   "cell_type": "markdown",
   "id": "f6681231",
   "metadata": {},
   "source": [
    "scalar math"
   ]
  },
  {
   "cell_type": "code",
   "execution_count": 15,
   "id": "ec548222",
   "metadata": {},
   "outputs": [
    {
     "data": {
      "text/plain": [
       "array([ 5, 11,  3,  7,  9, 13])"
      ]
     },
     "execution_count": 15,
     "metadata": {},
     "output_type": "execute_result"
    }
   ],
   "source": [
    "arr2=np.add(arr1,1)\n",
    "arr2"
   ]
  },
  {
   "cell_type": "code",
   "execution_count": 18,
   "id": "ce9e9684",
   "metadata": {},
   "outputs": [
    {
     "data": {
      "text/plain": [
       "array([ 3,  9,  1,  5,  7, 11])"
      ]
     },
     "execution_count": 18,
     "metadata": {},
     "output_type": "execute_result"
    }
   ],
   "source": [
    "arr3=np.subtract(arr2,2)\n",
    "arr3"
   ]
  },
  {
   "cell_type": "code",
   "execution_count": 19,
   "id": "00beb9d5",
   "metadata": {},
   "outputs": [
    {
     "data": {
      "text/plain": [
       "array([ 6, 18,  2, 10, 14, 22])"
      ]
     },
     "execution_count": 19,
     "metadata": {},
     "output_type": "execute_result"
    }
   ],
   "source": [
    "arr4=np.multiply(arr3,2)\n",
    "arr4"
   ]
  },
  {
   "cell_type": "code",
   "execution_count": 20,
   "id": "ccb3804a",
   "metadata": {},
   "outputs": [
    {
     "data": {
      "text/plain": [
       "array([ 3.,  9.,  1.,  5.,  7., 11.])"
      ]
     },
     "execution_count": 20,
     "metadata": {},
     "output_type": "execute_result"
    }
   ],
   "source": [
    "arr5=np.divide(arr4,2)\n",
    "arr5"
   ]
  },
  {
   "cell_type": "code",
   "execution_count": 21,
   "id": "e6b6cc17",
   "metadata": {},
   "outputs": [
    {
     "data": {
      "text/plain": [
       "array([  9.,  81.,   1.,  25.,  49., 121.])"
      ]
     },
     "execution_count": 21,
     "metadata": {},
     "output_type": "execute_result"
    }
   ],
   "source": [
    "np.power(arr5,2)"
   ]
  },
  {
   "cell_type": "markdown",
   "id": "79b49211",
   "metadata": {},
   "source": [
    "vector math"
   ]
  },
  {
   "cell_type": "code",
   "execution_count": 22,
   "id": "6434e42c",
   "metadata": {},
   "outputs": [],
   "source": [
    "arr1=np.array([24,21,3,8])\n",
    "arr2=np.array([17,19,12,9])\n"
   ]
  },
  {
   "cell_type": "code",
   "execution_count": 23,
   "id": "81fcce3c",
   "metadata": {},
   "outputs": [
    {
     "data": {
      "text/plain": [
       "array([41, 40, 15, 17])"
      ]
     },
     "execution_count": 23,
     "metadata": {},
     "output_type": "execute_result"
    }
   ],
   "source": [
    "np.add(arr1,arr2)"
   ]
  },
  {
   "cell_type": "code",
   "execution_count": 24,
   "id": "27c8a28b",
   "metadata": {},
   "outputs": [
    {
     "data": {
      "text/plain": [
       "array([ 7,  2, -9, -1])"
      ]
     },
     "execution_count": 24,
     "metadata": {},
     "output_type": "execute_result"
    }
   ],
   "source": [
    "np.subtract(arr1,arr2)"
   ]
  },
  {
   "cell_type": "code",
   "execution_count": 25,
   "id": "ae221073",
   "metadata": {},
   "outputs": [
    {
     "data": {
      "text/plain": [
       "array([408, 399,  36,  72])"
      ]
     },
     "execution_count": 25,
     "metadata": {},
     "output_type": "execute_result"
    }
   ],
   "source": [
    "np.multiply(arr1,arr2)"
   ]
  },
  {
   "cell_type": "code",
   "execution_count": 26,
   "id": "2c2871ad",
   "metadata": {},
   "outputs": [
    {
     "data": {
      "text/plain": [
       "array([1.41176471, 1.10526316, 0.25      , 0.88888889])"
      ]
     },
     "execution_count": 26,
     "metadata": {},
     "output_type": "execute_result"
    }
   ],
   "source": [
    "np.divide(arr1,arr2)"
   ]
  },
  {
   "cell_type": "code",
   "execution_count": 29,
   "id": "c7669863",
   "metadata": {},
   "outputs": [
    {
     "data": {
      "text/plain": [
       "array([-830368383,  972113667,       1728,   43046721])"
      ]
     },
     "execution_count": 29,
     "metadata": {},
     "output_type": "execute_result"
    }
   ],
   "source": [
    "np.power(arr2,arr1)"
   ]
  },
  {
   "cell_type": "code",
   "execution_count": 30,
   "id": "f59c70f5",
   "metadata": {},
   "outputs": [
    {
     "data": {
      "text/plain": [
       "False"
      ]
     },
     "execution_count": 30,
     "metadata": {},
     "output_type": "execute_result"
    }
   ],
   "source": [
    "np.array_equal(arr1,arr2)"
   ]
  },
  {
   "cell_type": "code",
   "execution_count": 31,
   "id": "9f65d3a5",
   "metadata": {},
   "outputs": [
    {
     "data": {
      "text/plain": [
       "array([4.89897949, 4.58257569, 1.73205081, 2.82842712])"
      ]
     },
     "execution_count": 31,
     "metadata": {},
     "output_type": "execute_result"
    }
   ],
   "source": [
    "np.sqrt(arr1)"
   ]
  },
  {
   "cell_type": "code",
   "execution_count": 32,
   "id": "76528d9a",
   "metadata": {},
   "outputs": [
    {
     "data": {
      "text/plain": [
       "array([3.17805383, 3.04452244, 1.09861229, 2.07944154])"
      ]
     },
     "execution_count": 32,
     "metadata": {},
     "output_type": "execute_result"
    }
   ],
   "source": [
    "np.log(arr1)"
   ]
  },
  {
   "cell_type": "code",
   "execution_count": 33,
   "id": "b71bc181",
   "metadata": {},
   "outputs": [
    {
     "data": {
      "text/plain": [
       "array([24, 21,  3,  8])"
      ]
     },
     "execution_count": 33,
     "metadata": {},
     "output_type": "execute_result"
    }
   ],
   "source": [
    "np.abs(arr1)"
   ]
  },
  {
   "cell_type": "code",
   "execution_count": 34,
   "id": "994c669b",
   "metadata": {},
   "outputs": [
    {
     "data": {
      "text/plain": [
       "1.0"
      ]
     },
     "execution_count": 34,
     "metadata": {},
     "output_type": "execute_result"
    }
   ],
   "source": [
    "np.corrcoef(arr1)"
   ]
  },
  {
   "cell_type": "code",
   "execution_count": null,
   "id": "a9afa43c",
   "metadata": {},
   "outputs": [],
   "source": []
  }
 ],
 "metadata": {
  "kernelspec": {
   "display_name": "Python 3 (ipykernel)",
   "language": "python",
   "name": "python3"
  },
  "language_info": {
   "codemirror_mode": {
    "name": "ipython",
    "version": 3
   },
   "file_extension": ".py",
   "mimetype": "text/x-python",
   "name": "python",
   "nbconvert_exporter": "python",
   "pygments_lexer": "ipython3",
   "version": "3.11.5"
  }
 },
 "nbformat": 4,
 "nbformat_minor": 5
}
